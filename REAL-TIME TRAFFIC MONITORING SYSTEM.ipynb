{
  "nbformat": 4,
  "nbformat_minor": 0,
  "metadata": {
    "colab": {
      "provenance": [],
      "authorship_tag": "ABX9TyOuA8vFq/zcKncoCDP1wUhB",
      "include_colab_link": true
    },
    "kernelspec": {
      "name": "python3",
      "display_name": "Python 3"
    },
    "language_info": {
      "name": "python"
    }
  },
  "cells": [
    {
      "cell_type": "markdown",
      "metadata": {
        "id": "view-in-github",
        "colab_type": "text"
      },
      "source": [
        "<a href=\"https://colab.research.google.com/github/paramzzz/paramzzz/blob/main/REAL-TIME%20TRAFFIC%20MONITORING%20SYSTEM.ipynb\" target=\"_parent\"><img src=\"https://colab.research.google.com/assets/colab-badge.svg\" alt=\"Open In Colab\"/></a>"
      ]
    },
    {
      "cell_type": "code",
      "execution_count": null,
      "metadata": {
        "colab": {
          "base_uri": "https://localhost:8080/"
        },
        "id": "9qg1fyRJnZTP",
        "outputId": "b3325dc5-7137-47bc-e586-d2c108e61207"
      },
      "outputs": [
        {
          "output_type": "stream",
          "name": "stdout",
          "text": [
            "Traffic Information:\n",
            "Start Address: chennai,IND\n",
            "End Address: bangalore,IND\n",
            "Distance: 331.896 km\n",
            "Duration: 268.61333333333334 minutes\n",
            "Polyline: {`wnAi{shNt@yCcBYg@Cg@M}DgDeAzAeApAML}AnBoA~AMNiAjAyBvC{@jAgAvAMPa@f@y@`AQ`@mA~A]\\o@^UDkC@iADWBWj@WdBEb@i@fFc@tAIbACXAPEZC\\KnASdDCn@MhCM`BaAnDMb@a@t@_DhF_@f@Ob@Kd@Y|EIdE@jCJ`BFxD@x@@~@Bp@JbAf@lFRjBDh@^fC\\dDH|BA~AWtCEx@BlAFn@\\`C|@vFf@nCv@hE?@d@pCf@tAP\\LVlAxAXZb@hALrAAhBE~B?jD@|APn@NZjBnBz@nAt@|AnA|CtApEdBhGn@fEj@zDj@jCXbApAbDn@~A|A|Br@xAdBlCj@|@jB|Cf@bAVp@HVLj@Hv@DbB@tAFdA@^VjAd@fAx@vAlBxC`@n@dC`EFJrDpGNXLXXbAHz@DfAChCB|B@lAPdAZ|@p@`Ar@`A\\d@hD`EPRxBrBT^JNTr@T`AJx@?fC?lDKvFEpFCjCIrAANUfDC|@@`AJ|@JZzAnDn@`BNb@Lj@Hj@Bn@@j@C`Aw@fIUrA]hAgAlCEHqA~CGVM|@C`@ApAL`NPfD^hGXvERnGHdCRlGLxHDzBRjHJdBRvARdARt@p@vBn@fBdCfH~GrSp@dB^v@PV`@p@DHfDnEzFtHp@dALZV|@VfB`@vCR|AB`@?~@G|@OdAeBdHiAfF_AhEu@nDkBdJKv@QtBCv@AhBPjK?dFObH[|Ie@`JGvBY|P?tBBdAVfDpAhI\\xCT`CHfA^dIT~BJf@d@dBfBnF`ApCp@|An@~@j@p@v@r@^XbAh@~@b@jIdDfEfBVNVLh@XzA|@`@ZNLd@j@^z@H`@H`@LbAJvCP~CVnBJr@XnAJ^b@bB@Bh@|ABLbBpHf@~CTlBP`BHdBDdC?r@?HBb@HzHFtEJxALp@Tx@z@|BRn@Z`BFn@RpDHlAJr@~@|EDXtAhH~DzRrA`G\\nAnAxDPd@fAnClDbIbC|GXbAj@tB~BlIFNfA`DhCzIxA`F`ErO\\rB\\bBp@pDjA`Hn@lDbBxIpArEj@nBhClG`B~CrCpFj@jAzA|CZr@n@pAzC`G\\r@~@jBNV^v@h@dAf@~@JTzBtEbGpLrAxCfJtP^r@b@v@lJ`QjC~FrAjD\\hAd@pCPnBb@hKd@vC`@hAtArCpB`DxGlLxA`ChDpGNVdAhCrAxCtDnLHZtC|Ih@tAVj@Zl@pDfGpJpOpAjBj@p@r@t@`Az@tAdAdKzGnCfBvNfIrHlEJH|WjPdB~@bCdApAf@|PjF~@\\z@`@bAj@RL`An@hA`At@t@v@~@tApBtD~FrCjETZnRbYp@fAxK~PdAhBvAfC`BtD`BdEp@pBtAjE`AzCvA~DzBxFpBfGlDbLbB`Hl@|Ap@vAvFjHbAvA~BzDR`@n@lAjCxEx@pAv@hAdAfAb@`@FFhC|A`B~@rEdC|EfBdEvAfGjBjKzCt@LXLlA`@vAf@tAt@vCpC`A`Bn@hBZ`BZjCb@hCfDfMjAdEXp@|@xALLbA~@p@`@zAj@j@LhL|A|Cf@p@Fx@Nn@Nj@XpAx@~@|@Zb@Zf@Zr@Tp@VfA@R`BbRPpDNlJFdAP`Ad@bBVp@`@z@~A~B|@zAbA|ApCvDdAbBvFtJ|AhChA|ArCfExAxBtBpCdE~D`DvCZZhBbBhCvCvBrCrHrKj@Xp@`AnAjATLVT`BdCzAxB`FrHnBlCb@d@RXnB|BzA`B[Z`@b@`LhMrDzDpDbEnAlBn@`BXbAV|AFnAFjAc@bGOrBQ`EARBn@HjADl@xA~GjCrKrApFPEVbAvBpGzBdG|BlFLRl@`AzMdS|AhCT`ApSpZtI~L\\n@L\\\\x@v@|CLvBEfCKz@WrAi@dBwCxG{@|B_@fBK~BAr@Dn@@N@^Hn@P|@\\hAx@jB~CfFnAxBvA`DdHjUdA~E|DhPfBfIt@hCv@rChCrFnGxKn@zAx@xBRl@pBpFp@rBpBzFJXd@tA`@`B`@|BVjCFbB@jBTtDX|CdAxJx@`GTdCn@fFz@dGdAtJ^~BfA`G`BhIjAdGhAdEp@pCdAbE`@jBTnAXnATx@r@lD|AfHj@jB~@|Bp@dCl@dDlAjJfAlKn@lH^nFRlBVxAb@rAp@`BfAjBtA`D|FtPfB`F|A~DtBpEtLpTzBxDtBzC`@j@dAbBf@z@v@bBzD|KdGpQpBrFZn@`AvAX\\`@^pA~@dC`Bd@LbBt@|@p@\\X`@`@fArAdAvAtEnG|B~CrBpCMHdL`PvCjFjD|Gv@tAxEjKHEdFvK`DtHfErJr@hBh@`Bl@lCpCpPfAvGNfA\\jBNfABLNz@T~A\\`Bl@nD\\pBTnAHp@JfA@VAXD`@DvA@PDdCJ|EBxAD|AB`Dl@rXH|CLdG?`BN|Ej@dLL~CN~DV`E@THbC^tFPbEhAxSXtMH|I?^TnMVvKD~ATrFHfBp@pHtVf@F?jAH@@?VtAFjAFAV^^d@F`AJvANAdCCROTi@PQHCDc@tAOjAWhCSlAOr@g@rAm@tAw@rAk@fCcAdAm@~AiAhBIPIH}@vAe@~@s@v@aA`@iBf@VpJI?BbDALc@hHKnA]xCG~A?n@Hj@@TAvB?x@BbBX|MHxDBzBCdAO`AqCzI}@~Cc@fBs@fEsAbH[lEIvAI|ICh@OvDw@lL]pDSrBg@tHKhCc@d[ClBe@|YCjBAdC?nCNtNVnMTzOT`FjAxLLl@Vz@zA~Mb@jFZbFFnAb@vIS|BdAtSj@jGTxBh@xCjA`GlA~GtBzKt@lDj@`Ed@hC`@|CJhACfD[hCg@dDk@tE{A|JwBtLo@pDeAxG]xAsArEYpA[`BQdBG~@QvJMfCOnA]jBIvAkBdI]vAw@jCo@lD]nD?jDFvDNzFd@hMD`DO|ALxCD|C?fAC|@WfCSfA]hAe@hAe@bAo@x@kBtB{@|AsAxAuAbB[Xi@v@_@|@k@n@Wn@iAdFuDxR]~Ao@`Cu@tB}EtMk@hAEJoE`JyArDwA|Eg@lAU`@q@bA[^aA~@a@XqAr@q@ZyMtGuDjBo@ZsDhBc@Xc@^{@z@s@`Aq@rAy@rBqJvViClHm@lBsBrHSx@e@jCeCnRuAjIgB|J[`BUdBk@|G_AjMCVkBpVQpCe@vFoA|LIxBBh@N~AIdMSxNOfGg@dUI`AQfAEpJ?tJb@bk@@bGJvKHt@V|AZbV?vAAdCCf@E^Mf@Ul@KrAc@lCUpBIfACnAb@bULpFl@tFNvCNfH`@xWHlIFpFBbBd@dd@NtCZjFJjAhBdTjA~LHvLIdB]nBs@tCkHpV{G~ReExLeCfFQ\\qBbE}@pCY|BIdEJlI~@lYB`@dAbVz@dSnBjo@d@rLLdElArc@LzCGjIgA`l@?TCx@QrLa@zNUxEKxAk@~H}A|NcDf]_AzHy@`GYzBuBvK}@jE_@fDc@jICp@_AjEOd@{@~CyDjNwC|JQl@sCbKmAfF{ClPaApFi@bCm@pByBbGy@zBWp@cBpEKTkC`HaO`\\cIrRIfBcC`JYxBKpB@`CN`BLr@k@NmBp@m@N]L[RQRa@~@i@hB}A|FCh@_B|FmAtEUt@y@dCeAfCq@xAa@`Ak@lAi@tAm@xAe@fAc@~@a@|@oBpEcA`CY|@Sv@k@tD_AbHS`AIRKLuBbE]`BGp@G~@QrFIpCUdHO~FIzBGdCMdDAtAIjGAf@X`F?h@?L@zBBjDEbBAf@E`BStMFb@HpGAbAC`@c@~AeAtCYx@w@|Be@bBg@tBWv@a@rAWv@uDlNOf@eAdEW|@eAzDg@lBiAlFwBbKQx@UfAMp@s@|A{BnE_BzDKVKR[z@MZGLETyB`J_@dBo@lC[pAQp@KJe@bBxA]nB_@~@Q`@EBz@a@rJt@CNAt@BQHMLqAdB]b@_BnBa@z@K^_@p@OPURe@NuAPSBq@NiAb@yAz@_CrASH_@h@Wf@W^i@bA_@h@wC|Co@j@g@Z]Ba@H{CxAQP}@\\}@R}BXkBLyCPsANw@Lu@PaAZeBf@uAb@}Ah@gCdA[LSHMFaDrAkAd@YDmAn@mDxAs@XiBtAu@x@s@x@MVaBjDyAhFgA`FYjBu@`FYrBs@vECPe@dDYnBMz@CJu@nFg@zAWx@{ArCmBrCiGzG_AbAgAlAe@f@y@|@eBjBQPyGlHoA~A}GnIwCrDoA|AoA|ASXc@h@eApAo@v@GJgA`CYp@uGbPgA~Da@jAs@bAo@x@_At@oBtAqKhGmAp@wDlCuCdCoAfA}CnCaBtA}AhBk@z@k@tA{@lDsAvFWf@o@~@kAjAQN_D|Bi@^gR|MeLfIa@ZYRe@\\mBtA[RWPaBlA_JlGC@WPyEfDk@l@]j@[t@M`@cMfd@aBlGwDxNm@xBGR_@vAqC`K[dAy@vC_AfDY`Ak@pBsDfMe@`Bg@bBq@~AoGxOqDfJkFpMKVZ\\xBpBvInH`FlEfBxAzArAzC|BzF~DBFPL|CnBdFnChBvAzFjCtA`ArAh@~LvDvOdE~A\\rDnApAj@vFdDxDfCbFhDdA~@tFrK|AfBtBnCh@j@NJxGzI`@p@DHPp@Dd@LjDZdH?xACJIpBEv@B`Ax@lJNb@tCxCh@bAdA~F\\bCPvCNvCBFb@xIJxAX|CBj@B\\?~A?P@pFKvEI`ECjD?R@jB?r@NrLJbB`@vBd@zCX~CPfJ?pMLnGE`Ae@jG]~Eg@hHq@nLIbDIvJDbDG`Kf@dKGlKM?@lBDh@Fb@PnAbA`HDf@TzCNxAd@tBfAzGLAd@|CPzAPjBx@`EnC~KTlAGbCCfAKnA]tEa@vFO`B{@vI[|B{@rE}AtJmAvHq@hDEHGf@Cl@DJDpC?`A?fFFdDXhGTrHAj@Cn@Gh@o@pC]~A]vAw@zCMp@OlAKhBCbB?Z?LH|C?TFnBLdEBnBBbBJvAFX\\t@~BzCnBbCbBnBnB`CXf@Lb@?Ve@?yC?wDG{ACk@AIGcADc@@gGXo@@QLiAHI@ODCB]Ra@Lc@Jo@AmD[kBFAt@ItAO|Cg@jDYfBcAnFSnBQlBa@dGAdBNbFRzGFdBPpF@h@MfDMrDYjC[lCc@|Dc@fEe@tEOzAUtBARkA~OEtACp@PtP?b@BrB?V@p@@~@BnAB|B?n@E~BAv@E`CC~BQnFWhL?rFFvDBdBXjSDpABt@DtADdBGlDb@rH?JD~@l@nNCz@Cj@G|BAh@@jCKbDM|CI`Ci@jFQ|@]dAiBdE_AxBe@pAc@rAKb@?l@HxAPhBjAvIx@fDVbA`A`Hl@tCd@jA~@|AzCfEVv@f@xBZl@|AzBd@bAPZJ`@Xv@^tAXnC?pBG~@Ch@AVH`ALh@j@pAFPNh@j@~A`AdCFNb@fAf@bA~@xAlAzAbApADFnEbFtBzBp@|@\\z@^nAP`ATzBBhAErCA^AVK|B@hADp@r@fFb@nCp@bCtBfFv@|DV|AfAdMj@vFfAtJXjD\\dEZfFd@`GVjFF`C^dGl@~K|@nM`@bGhApHfCxNhBpHb@xEl@zL@LBfB?p@Ct@sAhIoB`NEr@?`ABx@Fr@^vDJdF?lFEzHMrE?f@Jl@Rh@|KbSnFlJdDdJjEtKnDxLjA`Dt@rEV`BBd@?^Kl@a@hA{BjEa@|@Yz@Ov@MrAs@nJEx@Cb@Az@BdA`@~D~@bHr@~D~@rEnAhFHf@Db@^`Bj@|BrApGDz@IjAk@nEi@~Bq@nBOpAIrB^lFHpGPjBzAvHHvAkAhH]jB_@lCk@~Jq@zKmAr_@InLCnBJb\\lHzm@@f@JfKG|GEtq@@|AIhCq@lWmBhPi@~GI`BqAbVK~BBbXIxTCrVAPPpCtBrR`@|Hh@`Ft@jIl@zEn@bE@FvJfo@NdAj@zCNx@\\lBl@vEVdK@\\?NZvLHtARtCLx@P`ANb@Nd@^fAjAhDrFpPb@lA|@dBbBvDN`@x@bCXh@d@~@zCzFrCpFNZdAxB|DlHR\\pAzB`BrC\\l@\\j@Xd@pArB~A`Dn@b@HFbEjCz@b@Al@Gx@IXcArEIZTlBH|CXdDGjDDhCSjBOt@s@|CsB`HQn@IT_@b@QR_@p@[`A]v@Kh@C\\GpEMtDQbDEh@i@xEmAfKW~Ak@hBcCnEwA~Bg@vAIlBJ`BRnAnBdFr@jAd@h@Vv@Dt@ElBEv@OdCIvAKlBUhEYbFGt@Et@GfAKlBC\\Gf@Mz@_@nAIXO\\INiAdCa@z@kCfFiHrM_@~@UfBYrF[|D_BlLQjFPhCJ|BPhBbAfGn@hFf@fDVdDPfDLlEFpJAdBVhFz@zExAf`@z@bY?zCBbZP`ELjAj@nIPhB\\`FpAjTRpB?tBhBjb@h@jJj@jG|Cla@d@fNP`K@rEVjAVn@pM`Pz@~Ap@bBhIh_@x@rF`@dDLxALdBDf@ZpEp@~NBh@Dp@HjBFxBNx@|A|ErBlGHvAMbBk@fGQhAq@jBcBdDSj@Y|@Qv@WfBo@nDm@vC}DbMsH|Ts@jCe@xAc@~B]vDKtDCx@y@xXC`AGxAGz@C~CBdA@~BEdASlAGZUx@CLq@dCUz@EJYlAEh@A^Hh@^dBdApEb@vAl@|Av@vA\\\\jDrDxA|Ah@l@p@v@fAnAn@t@\\VvAfAdAx@DBf@XZPlHfELHr@b@p@x@\\j@Zt@VjAVdAT~@fAvEx@lELn@f@jDLlAJbAHlAHbABZZdIBrAA~BZhGBh@LdAh@zDBvEUlMA`AFtAf@dNItAiBzJsDnXsE`WUzAG`A@p@Dj@N`@RZf@d@VNZHRHf@n@T`@DRAPSv@IlAI`BAx@HXNLPFdM~ANFLLBZ?h@U~ACzD_@nAEtB{@tEr@vVXjAfAbB~@rA`AbBTn@Hn@_BjGRl@ZBVGtBmAfDuAJH?N[X[j@aDnJCn@PLNWXcAzCaD\\i@LGJFDP[f@aA`Au@|BUdAGrADFJBHCD_AJg@\\}@r@}@Xa@bBs@LBDJMLi@La@Xu@pAMj@@j@BLp@`@Dd@IbAGZu@vAOZKb@SnAEj@CjAKv@Qj@_@x@Oh@c@vB]lAgAbDIb@Gd@BbANzCAhAHj@Kf@_BdCK`@XzBXtBP|@H\\b@x@RZjDtCv@\\z@f@nA|@vAbBb@b@Pn@Hj@QvD_@nAaAzCAb@N`@\\j@N`@I`@kB~CS`AAXH~@@z@Gl@YzAQpDFl@Jj@PPnAdAD^B`@GhAQ|Be@pAs@~AWr@IZ[hDKn@mCxEKf@Ad@FxAd@tGn@hDARGXa@j@k@d@qBl@SRMVAVJd@t@bBxAzCX\\^^HX?Ty@tE}GlEy@`As@jBk@vEA~@@~AGdGg@fCqAtAwAfAk@h@q@tC]jAFxARlBObAu@p@o@Vo@FwCJo@FiBrB_@XqA`@eApBo@d@s@b@eB|@_AbAY|@CjCOnBkB~E_Ax@e@fAkBvFiCxFWbAc@tCUlAgAzAk@fAE`@?`CHdB@l@Wv@oBbFMd@QfAGr@Bn@l@|D`@dBlAbERf@\\d@Lb@^`B^xCs@|DcAhD{BxD}C`Cy@H{A`@]TiAhAk@v@[t@Yv@SnASdA_AdC{AbD_A`Bq@zAcAxCWp@sA~Bc@l@y@vBiBfG_@bAQjAAdBAb@IROd@c@p@kArAcB`Ba@\\u@|@kA`Bo@hAKd@Ut@WjBs@hLApB?P?nFCv@StAQt@s@`BWf@s@~@}@|AUf@[x@Kp@kApP_@bE@XJbAFXbD|I\\pBXtBx@vHXlAd@hBZp@Zz@|@fBLn@^fHr@rHx@hJFzABhAKfHQrCQ|Dq@fLKpAObIEbG@fBJdD@nCBvGAvDE|@Gx@Al@}@vFc@~BqEnNaC|HmB~Ge@tAmBnEoBzDYv@o@pAmC~EcC`Em@~@iAnBcDdFc@|@mG`LoKbSqDrGsAlCoBbE{AlDa@nAgArC}ArD}AfDmClGk@zAkBhEUh@gAxA_HnIyJhMmB~B_DtDk@j@sAzAuBnBgBfBeA|AwC`FwBzDw@dAYTWRqFnDsJbG}CjBkGhDmFxDsB`C[RcJ|EsFdD}DhCwChBw@d@qOzKeGlEu@l@eCnByFhEsCpByA`AiAv@s@d@w@p@o@t@qDxFeJfNy@l@a@r@y@zAqDtGQf@MtBGpAE`ATxDLfBJlBJdBF|@PtCBbChAnLBj@Kn@yCfMyBjNQ\\u@r@a@l@Gf@a@~IYvFe@hN]rBg@fEq@nECPQ`FMpA_ArE}@lGO`B}CjLSdACf@L`D_@nHExA?pB@vEE^Sp@y@dDIZuHtZUz@CNAp@@^HzCBv@C^k@pCALGp@C~D?~CHrBE|@MlDQlF[rDc@bBI\\i@bCOt@k@`Je@|GYbDYdDCp@JlBVjCDj@FdAHfBv@nNNjD^nGLtC?`ACtAQrBWhDi@dHIbA_CjSqBzMQz@oC~NwF_BuEaBcD}@iBQoCOuAWoBy@sGsEeAi@w@YcBm@wEoBcAk@o@w@cAaBkEwFmCeBkDcBmCcAWMcAo@q@_Aq@q@gByBmAiCcA}Co@wAIGg@YeAOiAKuBQw@Ew@_@_@QoAmAo@iAK[Ui@{@{@QQMEgBg@kAKiASu@GaA_@kDcCkD_BeCcAqAQy@@_MtAiC^cCr@kFpA_Ad@q@r@qFlGg@p@g@`@y@@}Fy@sA?oIpAkL`Ac@D{B@oAIwKeAmDKwB?kCP{@?s@Ui@o@YQkBSsCEy@SgAa@mBa@}AGgC?k@RmAt@m@\\oAj@sH|BcJxC{EjB{BvAoBdAy@VoC@qGAiHK}APqAh@{A`@_Dt@uEn@sFTgHHmGo@aCG{Fa@iD@wBHaDn@mMnD_HxCuKxCiJtB}DrAqEhAcIn@uCA_BJmBXiBb@k@\\s@f@uDzFcCbE[Zk@\\sFdCwAb@uHvCmBn@aB|@yGtEiC|AmDtAcQxFsR~FoElAuAj@mAr@uFdF{HxGcCfA{Bv@of@|L{KbB}KlBeE`Bw_@tR_APeI@yCFcARuEvCwCrBeAp@yAbAy@rAqAzAm@h@y@^}TxH_Ix@sDRuDv@mAbAqFhFiBZ_CvFoBnFoA|CkGjQ_J`U_GtNuM~ZeBxE}@|D]nCSzBArAAhCB|A?NDp@BP`A|M^tH`AzPT~DnAjTbA|PnAfSzBx^TpD`@tGd@hH|Dvp@R`DVlEfJr|AHrBCtAI~@WtBaCzJ}DnP[bBItAAbAH`BVdB`A|CfLdWNZbA~BlDfIt@xBh@pEhG|m@|@tGtBxKn@hDJl@l@dDZbBxCnPTzBFrDoBza@_@lJCnE?vAAdCStv@CrFE|OAvE@fA@tD?zB?n@?tJ?fF?`KJtCVzCp@dExIle@fAbGbDdQr@tD\\jBjKvj@~@pHlAzQTpDHbAXfEfBrWpAdPhBzUn@bIhAjO|Bv[B\\ZfE\\|Eb@bGn@`JdEtj@@NvBtYrCv_@JrAb@~FjKtvAVbDbAlL^vDJz@l@tEXpAj@hAt@x@dGnEtGrFtHnG~KfMtC|CjE~EjKvLfLlM|CrDzAzBv@~A|@~B\\xA~EjWN|@NpBBf@@~ACrAIfAG^SfA]jA]`Ai@hAcB|CyEhIQZo@hAyE|J_@v@uRda@gA`CcCnHkJdYcBdFmAfDk@vBQhAGr@AxALbBf@vBhAfCjChFr@hBbAbDX`AjDdOp@dEj@jFZnFBTf@tJj@|E\\dB`B`ItBtJ`DjT`AzGn@hF\\zEPxCBf@F|@jAvQ`@lIAbCIbCQfCW|AEXy@~Dm@xBoAxEeD`Nk@zCg@`EuAfQe@`Fc@xG{@bKs@zH_@jFa@dG]dEk@zJ_A~HqA|IaAtHcAzHiD|VoC|R]xAkBvGgC~G_AbDoBdHk@dDOhCShDaA`I[dC}BnQuEt[uAzIkAvH{AfKKv@i@fCw@hCu@~Bc@`AmD`I[r@Oj@e@nCcAzIeAxJ_AzNOxDF|BRfCDRRz@p@vBz@dBvAfBpCxCvDrElInJnPhRVd@x@lBn@bC^jCArCe@zFkD~Q_EzT{DvSoHp]Kf@a@lB}AxHiA|HUxEGhD?zBJvCJxBdBtPj@bFbA`ItCbLfA`Fb@rC^xDZxDNxEDbDEdDQ|Ei@tGQxAq@jDuA~GcDbO}DnRe@fDUbCM`CCvBS`HIdJAhEUlCcB`LMjBE`ABdAJjAJh@ZhAb@xATj@fA~CXf@p@bCl@~CRnANbBJdCFjFL`GDx@DnAJnARpAl@fCpCzJ^fBRbBPjCA|BKvEQnE?bEJ|Av@xCfBtDhCbF~ExJz@zBjApEr@jGx@pFnBnJbB`Jz@hJ\\`DVrBF|@PlA^fBX~@^v@h@|@x@`AtAlApM|HxAtAz@`At@|AXt@d@pBx@~D\\pBPdCErAK|Ao@nDy@rD[vBKzA?nALzAd@tBzAvDlIzPf@nAhAbBdBtB`DpDnDfD|@~@rEjE`CxBdAfAxBbBfIhFtCzB`BbB`BzBbBfDxAlDfD|J`@~@|@fCVh@~@rBLVxJjPd@~@|CnG`BfE~AvD`@bAvB|DbDbF~AnC~@jBlBnEtAtDjK~\\RlAZzBfAfHTt@lIn_@v@nDr@fCx@|Bt@fBz@dBdAhBxDfG`AjBfA`Cl@zAj@dB~@rDzDvQ`E`RxBtKZ`Bd@|Cp@tFR~@Tx@`@~@h@`A`AjAfAbAbFtEx@bANPd@z@Vh@`A`E^rITdCj@~BbAtCjEbM`DzH`BxCfArBbAhBpA~BpAnC|DvIdGjNv@~BT`A^jCHfC?v@GpCg@bFc@xEUhDE|AEpCJvRFdDHrBLdAN~@V`A`@bAP^x@|AjBfEdFhKjAhCxJvSxAbDj@lAxBjEfB~DpAvClBhEdO~\\h@~@`AtA`CzBbAx@`CnBbFbEjF~EhH~F`F|DhBxATRnAbA^\\dEfDnAlAt@~@l@r@pApBJT~@lBXr@d@zAL`@pFtOv@jBzFnLtGrN|D`Ir@tA~BvDvC|E|M|SfErG|DnGvFpItErHbChDxP|WxDpGzBlDnRlZrOdVnA|BxBxEh@hAnG~M|@pBpMtY^x@bJ|RjHzOhTrc@bI~OpC~Fr@fBp@fBhAjDxAnDt@lAfBlBrAz@JFZRjEnBJDx@`@tAr@nBbAlAx@dAv@zAhAp@p@b@b@h@`@vBdBjDdCr@x@FRJX@HFxEAjAC|@CnA?JNfBNxAZtCD^|@bHBTh@jBt@rBpD`JpDrHVf@d@|@|@pB|NzZtDhIvE`KXp@xC|I`Mh\\TTDNRj@f@zAnAnDZ\\Tp@zAvEX~@DNHn@x@`CVz@b@xAdB|Ez@tBZfAlCzGjAbDp@hBb@jApElL~B|FhBxE~Lh]`CzGb@|ABHr@|B~@xCvBhHDNhAdE~BzHnA~El@nCBPH\\fDvLRt@V~@HV?BBJ?@^fBRfBV`ILrBHpAZzEZrAvArCLN`ApA\\`@l@j@vAhA^XnFrDNJXNbAj@TNHHZZXZBDZl@|@lB\\`@`@`@RN~BnAlD`CNJ\\ZZZPXh@~@r@rApErI~@jBf@jAp@`CXfAPrAHnA@TFpBNTLHLFNDd@?zAAZNnDdHtBzDpBhEpAfCdBdDXt@FxAF`BRpDRhATf@j@n@fAx@h@f@^h@BT?Bp@pFBVXtC@Fd@~CNpABTVrB@JLdBvB@\n"
          ]
        }
      ],
      "source": [
        "import requests\n",
        "\n",
        "# Replace with your OpenRouteService API key\n",
        "ORS_API_KEY = '5b3ce3597851110001cf6248ac9bd7689924491b812a74de277c35ca'\n",
        "\n",
        "def get_geocode(location):\n",
        "    geocode_url = f\"https://api.openrouteservice.org/geocode/search?api_key={ORS_API_KEY}&text={location}\"\n",
        "    response = requests.get(geocode_url)\n",
        "\n",
        "    if response.status_code != 200:\n",
        "        raise Exception(f\"Error fetching geocode: {response.status_code}\")\n",
        "\n",
        "    data = response.json()\n",
        "    if 'features' not in data or len(data['features']) == 0:\n",
        "        raise Exception(\"No geocoding results found.\")\n",
        "\n",
        "    coords = data['features'][0]['geometry']['coordinates']\n",
        "    return coords\n",
        "\n",
        "def get_traffic_data(start, end):\n",
        "    try:\n",
        "        start_coords = get_geocode(start)\n",
        "        end_coords = get_geocode(end)\n",
        "    except Exception as e:\n",
        "        return {'error': str(e)}\n",
        "\n",
        "    routing_url = f\"https://api.openrouteservice.org/v2/directions/driving-car\"\n",
        "    headers = {\n",
        "        'Authorization': ORS_API_KEY,\n",
        "        'Content-Type': 'application/json'\n",
        "    }\n",
        "    body = {\n",
        "        \"coordinates\": [start_coords, end_coords]\n",
        "    }\n",
        "\n",
        "    response = requests.post(routing_url, json=body, headers=headers)\n",
        "\n",
        "    if response.status_code != 200:\n",
        "        return {'error': f\"Error fetching route: {response.status_code}\"}\n",
        "\n",
        "    route_data = response.json()\n",
        "\n",
        "    if 'routes' not in route_data:\n",
        "        return {'error': 'No routes found'}\n",
        "\n",
        "    route = route_data['routes'][0]\n",
        "    summary = route['summary']\n",
        "\n",
        "    traffic_info = {\n",
        "        'start_address': start,\n",
        "        'end_address': end,\n",
        "        'distance': summary['distance'] / 1000,  # convert to km\n",
        "        'duration': summary['duration'] / 60,  # convert to minutes\n",
        "        'polyline': route['geometry']\n",
        "    }\n",
        "\n",
        "    return traffic_info\n",
        "\n",
        "def display_traffic_info(start, end):\n",
        "    traffic_info = get_traffic_data(start, end)\n",
        "    if 'error' in traffic_info:\n",
        "        print(\"Error:\", traffic_info['error'])\n",
        "    else:\n",
        "        print(\"Traffic Information:\")\n",
        "        print(f\"Start Address: {traffic_info['start_address']}\")\n",
        "        print(f\"End Address: {traffic_info['end_address']}\")\n",
        "        print(f\"Distance: {traffic_info['distance']} km\")\n",
        "        print(f\"Duration: {traffic_info['duration']} minutes\")\n",
        "        print(\"Polyline:\", traffic_info['polyline'])\n",
        "\n",
        "# Hardcoded start and end locations\n",
        "start = \"chennai,IND\"\n",
        "end = \"bangalore,IND\"\n",
        "display_traffic_info(start, end)\n",
        "\n"
      ]
    }
  ]
}