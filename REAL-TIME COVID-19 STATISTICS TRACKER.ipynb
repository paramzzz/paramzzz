{
  "nbformat": 4,
  "nbformat_minor": 0,
  "metadata": {
    "colab": {
      "provenance": [],
      "authorship_tag": "ABX9TyOcOA58AIJ6Z5HAwwmXHlDr",
      "include_colab_link": true
    },
    "kernelspec": {
      "name": "python3",
      "display_name": "Python 3"
    },
    "language_info": {
      "name": "python"
    }
  },
  "cells": [
    {
      "cell_type": "markdown",
      "metadata": {
        "id": "view-in-github",
        "colab_type": "text"
      },
      "source": [
        "<a href=\"https://colab.research.google.com/github/paramzzz/paramzzz/blob/main/REAL-TIME%20COVID-19%20STATISTICS%20TRACKER.ipynb\" target=\"_parent\"><img src=\"https://colab.research.google.com/assets/colab-badge.svg\" alt=\"Open In Colab\"/></a>"
      ]
    },
    {
      "cell_type": "code",
      "source": [
        "import requests\n",
        "\n",
        "def fetch_covid_statistics(region):\n",
        "    url = f\"https://disease.sh/v3/covid-19/countries/{region}\"\n",
        "\n",
        "    response = requests.get(url)\n",
        "    data = response.json()\n",
        "\n",
        "    if response.status_code == 200:\n",
        "        country = data[\"country\"]\n",
        "        cases = data[\"cases\"]\n",
        "        recovered = data[\"recovered\"]\n",
        "        deaths = data[\"deaths\"]\n",
        "\n",
        "        print(f\"COVID-19 Statistics for {country}:\")\n",
        "        print(f\"Total Cases: {cases}\")\n",
        "        print(f\"Total Recovered: {recovered}\")\n",
        "        print(f\"Total Deaths: {deaths}\")\n",
        "    else:\n",
        "        print(f\"Failed to fetch data for {region}. Error: {response.status_code}\")\n",
        "\n",
        "# Example usage\n",
        "if __name__ == \"__main__\": # Use double underscores for __name__\n",
        "    region = input(\"Enter a country name or 'all' for global statistics: \")\n",
        "    fetch_covid_statistics(region)"
      ],
      "metadata": {
        "colab": {
          "base_uri": "https://localhost:8080/"
        },
        "id": "Mk1_hyEzv79b",
        "outputId": "daa9a67b-d3b0-48d7-fba0-eb5f861c78d7"
      },
      "execution_count": null,
      "outputs": [
        {
          "output_type": "stream",
          "name": "stdout",
          "text": [
            "Enter a country name or 'all' for global statistics: India\n",
            "COVID-19 Statistics for India:\n",
            "Total Cases: 45035393\n",
            "Total Recovered: 0\n",
            "Total Deaths: 533570\n"
          ]
        }
      ]
    }
  ]
}