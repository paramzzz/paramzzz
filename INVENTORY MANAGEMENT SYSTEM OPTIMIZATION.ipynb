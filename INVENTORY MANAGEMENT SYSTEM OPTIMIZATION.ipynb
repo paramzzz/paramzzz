{
  "nbformat": 4,
  "nbformat_minor": 0,
  "metadata": {
    "colab": {
      "provenance": [],
      "authorship_tag": "ABX9TyN0U8IQC7YN3lBEU4ItaYks",
      "include_colab_link": true
    },
    "kernelspec": {
      "name": "python3",
      "display_name": "Python 3"
    },
    "language_info": {
      "name": "python"
    }
  },
  "cells": [
    {
      "cell_type": "markdown",
      "metadata": {
        "id": "view-in-github",
        "colab_type": "text"
      },
      "source": [
        "<a href=\"https://colab.research.google.com/github/paramzzz/paramzzz/blob/main/INVENTORY%20MANAGEMENT%20SYSTEM%20OPTIMIZATION.ipynb\" target=\"_parent\"><img src=\"https://colab.research.google.com/assets/colab-badge.svg\" alt=\"Open In Colab\"/></a>"
      ]
    },
    {
      "cell_type": "code",
      "execution_count": null,
      "metadata": {
        "colab": {
          "base_uri": "https://localhost:8080/"
        },
        "id": "9_vb-tMjtmej",
        "outputId": "3d0d606e-df2b-4049-9788-f3b8f0ce2342"
      },
      "outputs": [
        {
          "output_type": "stream",
          "name": "stdout",
          "text": [
            "EOQ for Product A: 316.22776601683796\n"
          ]
        }
      ],
      "source": [
        "class Product:\n",
        "    def __init__(self, product_id, name, price): # Fix: Rename _init_ to __init__\n",
        "        self.product_id = product_id\n",
        "        self.name = name\n",
        "        self.price = price\n",
        "\n",
        "class Warehouse:\n",
        "    def __init__(self, warehouse_id, location): # Fix: Rename _init_ to __init__\n",
        "        self.warehouse_id = warehouse_id\n",
        "        self.location = location\n",
        "        self.inventory = {}\n",
        "\n",
        "    def add_product(self, product, quantity):\n",
        "        self.inventory[product] = quantity\n",
        "\n",
        "# Create products and warehouses\n",
        "product1 = Product(1, \"Product A\", 10.99)\n",
        "product2 = Product(2, \"Product B\", 15.99)\n",
        "\n",
        "warehouse1 = Warehouse(1, \"Location X\")\n",
        "warehouse1.add_product(product1, 100)\n",
        "warehouse1.add_product(product2, 50)\n",
        "inventory = {\n",
        "    \"Product A\": 100,\n",
        "    \"Product B\": 50\n",
        "}\n",
        "\n",
        "def track_inventory(product_name, threshold):\n",
        "    if inventory.get(product_name, 0) < threshold:\n",
        "        print(f\"Alert: {product_name} stock is below threshold!\")\n",
        "\n",
        "# Example of tracking Product A\n",
        "track_inventory(\"Product A\", 20)\n",
        "def calculate_eoq(demand_rate, ordering_cost, holding_cost):\n",
        "    eoq = ((2 * demand_rate * ordering_cost) / holding_cost) ** 0.5\n",
        "    return eoq\n",
        "\n",
        "# Example calculation\n",
        "demand_rate = 2000  # units per year\n",
        "ordering_cost = 100  # per order\n",
        "holding_cost = 4    # per unit per year\n",
        "\n",
        "eoq_productA = calculate_eoq(demand_rate, ordering_cost, holding_cost)\n",
        "print(f\"EOQ for Product A: {eoq_productA}\")"
      ]
    }
  ]
}